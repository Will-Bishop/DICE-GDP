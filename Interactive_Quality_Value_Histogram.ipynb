{
 "cells": [
  {
   "cell_type": "markdown",
   "id": "fd4f4732",
   "metadata": {},
   "source": [
    "# Interactive Quality Value Histogram "
   ]
  },
  {
   "cell_type": "markdown",
   "id": "50bb8726",
   "metadata": {},
   "source": [
    "Make imports"
   ]
  },
  {
   "cell_type": "code",
   "execution_count": 10,
   "id": "bc6218cd",
   "metadata": {},
   "outputs": [],
   "source": [
    "import random\n",
    "import matplotlib.pyplot as plt\n",
    "import numpy as np\n",
    "\n",
    "from ipywidgets import interact, interactive, fixed, interact_manual\n",
    "import ipywidgets as widgets"
   ]
  },
  {
   "cell_type": "markdown",
   "id": "523e724f",
   "metadata": {},
   "source": [
    "Define a function to plot a histogram. Note the coefficients should be initialised."
   ]
  },
  {
   "cell_type": "code",
   "execution_count": 11,
   "id": "1da9e56d",
   "metadata": {},
   "outputs": [],
   "source": [
    "# Function to calculate Q\n",
    "def calc_q(variables, coefficients):\n",
    "    # variables = [V_out, V_in, Cost, Ease, Time, Androgynous, Fit, Passivity] \n",
    "    \n",
    "    q = 0\n",
    "    for i, (k,v) in enumerate(variables.items()):\n",
    "        q+= v*coefficients[i]\n",
    "    \n",
    "    return q\n",
    "    \n",
    "        \n",
    "#Function to plot the histogram\n",
    "def plot_hist_ext(vout_c = 1,\n",
    "                  vin_c = 2,\n",
    "                  cost_c = 0.5,\n",
    "                  ease_c = 1,\n",
    "                  time_c = 2,\n",
    "                  andr_c = 2,\n",
    "                  fit_c = 2,\n",
    "                  pas_c = 2,\n",
    "                 ):\n",
    "    \n",
    "    q_values = []\n",
    "    \n",
    "    # Store coefficients in an array\n",
    "    coefficients = [vout_c,\n",
    "                    vin_c,\n",
    "                    cost_c,\n",
    "                    ease_c,\n",
    "                    time_c,\n",
    "                    andr_c,\n",
    "                    fit_c,\n",
    "                    pas_c,\n",
    "                   ]\n",
    "    \n",
    "    for i in range(5000):\n",
    "        \n",
    "        # Create random values for variables, stored in a dictionary\n",
    "        variables = {\"V_out\" : random.randrange(0,101),  \n",
    "                     \"V_in\" : random.randrange(0,101),\n",
    "                     \"C\" : random.randrange(0,1000),     # Cost\n",
    "                     \"E\" : random.randrange(0,5),        # Ease of connection (between 0 and 4)\n",
    "                     \"T\" : random.randrange(0,11),       # Time to connect\n",
    "                     # Boolean variables\n",
    "                     \"A\" : random.randint(0,1),          # Androgynous\n",
    "                     \"F\" : random.randint(0,1),          # Fit\n",
    "                     \"P\" : random.randint(0,1),          # Passive\n",
    "                    }\n",
    "\n",
    "        \n",
    "        # Calculate q\n",
    "        q_value = calc_q(variables=variables, coefficients=coefficients)\n",
    "        \n",
    "    \n",
    "         # Add q value to an array\n",
    "        q_values.append(q_value)\n",
    "    \n",
    "    plt.hist(q_values, density=True, bins=30)\n",
    "    plt.ylabel('Probability Density')\n",
    "    plt.xlabel('Value of Q');\n",
    "    \n",
    "    # Create the histogram title (responsive)\n",
    "    title_str = str()\n",
    "    for i, (k,v) in enumerate(variables.items()):\n",
    "        if coefficients[i] != 0:\n",
    "            title_str += str(coefficients[i])\n",
    "            title_str += k\n",
    "            title_str += \" + \"\n",
    "    title_str = title_str[:-3]\n",
    "    \n",
    "    plt.title(\"Current equation: \\nQ = \" + title_str)"
   ]
  },
  {
   "cell_type": "markdown",
   "id": "adbba6fd",
   "metadata": {},
   "source": [
    "Call the plotting function using the ipywidgets.interact() method"
   ]
  },
  {
   "cell_type": "code",
   "execution_count": 13,
   "id": "3b884f6c",
   "metadata": {},
   "outputs": [
    {
     "data": {
      "application/vnd.jupyter.widget-view+json": {
       "model_id": "a4c31d7d969d4210a09f724727493818",
       "version_major": 2,
       "version_minor": 0
      },
      "text/plain": [
       "interactive(children=(FloatSlider(value=1.0, description='vout_c', max=5.0, step=0.25), FloatSlider(value=2.0,…"
      ]
     },
     "metadata": {},
     "output_type": "display_data"
    },
    {
     "data": {
      "text/plain": [
       "<function __main__.plot_hist_ext(vout_c=1, vin_c=2, cost_c=0.5, ease_c=1, time_c=2, andr_c=2, fit_c=2, pas_c=2)>"
      ]
     },
     "execution_count": 13,
     "metadata": {},
     "output_type": "execute_result"
    }
   ],
   "source": [
    "widgets.interact(plot_hist_ext,\n",
    "                 vout_c=(0,5,0.25),\n",
    "                 vin_c=(0,5,0.25),\n",
    "                 cost_c=(0,5,0.25),\n",
    "                 ease_c=(0,5,0.25),\n",
    "                 time_c=(0,5,0.25),\n",
    "                 andr_c=(0,10, 1),\n",
    "                 fit_c=(0,10, 1),\n",
    "                 pas_c=(0,10, 1),\n",
    "                )"
   ]
  },
  {
   "cell_type": "code",
   "execution_count": null,
   "id": "e7fafd46",
   "metadata": {},
   "outputs": [],
   "source": []
  }
 ],
 "metadata": {
  "kernelspec": {
   "display_name": "Python 3 (ipykernel)",
   "language": "python",
   "name": "python3"
  },
  "language_info": {
   "codemirror_mode": {
    "name": "ipython",
    "version": 3
   },
   "file_extension": ".py",
   "mimetype": "text/x-python",
   "name": "python",
   "nbconvert_exporter": "python",
   "pygments_lexer": "ipython3",
   "version": "3.9.12"
  }
 },
 "nbformat": 4,
 "nbformat_minor": 5
}
